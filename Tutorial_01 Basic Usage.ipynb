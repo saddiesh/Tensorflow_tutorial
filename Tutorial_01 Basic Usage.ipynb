{
 "cells": [
  {
   "cell_type": "markdown",
   "metadata": {},
   "source": [
    "#  TensorFlow入门（一）基本用法\n",
    "\n"
   ]
  },
  {
   "cell_type": "code",
   "execution_count": 1,
   "metadata": {},
   "outputs": [
    {
     "name": "stderr",
     "output_type": "stream",
     "text": [
      "/Users/stephaniexia/anaconda3/lib/python3.6/site-packages/h5py/__init__.py:36: FutureWarning: Conversion of the second argument of issubdtype from `float` to `np.floating` is deprecated. In future, it will be treated as `np.float64 == np.dtype(float).type`.\n",
      "  from ._conv import register_converters as _register_converters\n"
     ]
    },
    {
     "name": "stdout",
     "output_type": "stream",
     "text": [
      "1.12.0\n"
     ]
    }
   ],
   "source": [
    "import tensorflow as tf\n",
    "\n",
    "print(tf.__version__)  # 查看 TensorFlow 版本"
   ]
  },
  {
   "cell_type": "markdown",
   "metadata": {},
   "source": [
    "TensorFlow 是一个深度学习框架，大部分人使用 TensorFlow 都是为了实现一些神经网络模型。下面将按照下面几个步骤来感受一下 TensorFlow 的计算机制：\n",
    "- 学习 TensorFlow 的变量和常量\n",
    "- 学习 TensorFlow 的基本操作：加减乘除\n",
    "- 跑两个简单的例子来感受一下 TensorFlow 的计算机制"
   ]
  },
  {
   "cell_type": "markdown",
   "metadata": {},
   "source": [
    "## 1.变量，常量\n",
    "### 1.1 变量"
   ]
  },
  {
   "cell_type": "code",
   "execution_count": 2,
   "metadata": {},
   "outputs": [
    {
     "name": "stdout",
     "output_type": "stream",
     "text": [
      "v1: <tf.Variable 'w1:0' shape=() dtype=float32_ref>\n",
      "v2: <tf.Variable 'w1_1:0' shape=(1,) dtype=float32_ref>\n",
      "v3: <tf.Variable 'Variable:0' shape=(2, 1) dtype=float32_ref>\n"
     ]
    }
   ],
   "source": [
    "v1 = tf.Variable(0.1, dtype=tf.float32, name='w1', trainable=False)\n",
    "v2 = tf.Variable([0.1], dtype=tf.float32, name='w1')\n",
    "v3 = tf.Variable([[0.1], [0.3]], dtype=tf.float32)\n",
    "print('v1:', v1)\n",
    "print('v2:', v2)\n",
    "print('v3:', v3)"
   ]
  },
  {
   "cell_type": "markdown",
   "metadata": {},
   "source": [
    "可以看到打印出来的结果中包含三个部分：\n",
    "- 第一部分是这个变量在命名空间中的一个名称，如 'v1:0'.因为神经网络中的参数一般很多，TensorFlow中使用了命名空间管理的方式让我们可以清晰地知道每个变量所在的位置和状态，这个在后面的学习中慢慢学习。\n",
    "- 第二部分 shape\n",
    "- 第三部分是变量的类型\n",
    "\n",
    "那我们给的变量值哪去了？这个就是 TensorFlow 比较奇葩的地方，我们需要初始化了以后，再启动 Session 才能得到它的值。说的很绕口，下面看看实现。"
   ]
  },
  {
   "cell_type": "code",
   "execution_count": 3,
   "metadata": {},
   "outputs": [],
   "source": [
    "init = tf.global_variables_initializer()  # 初始化操作\n",
    "\n",
    "sess = tf.Session()\n",
    "sess.run(init)   # 执行初始化操作"
   ]
  },
  {
   "cell_type": "markdown",
   "metadata": {},
   "source": [
    "现在我们可以看到我们给的变量了,但是注意要通过 sess.run() 来看"
   ]
  },
  {
   "cell_type": "code",
   "execution_count": 4,
   "metadata": {},
   "outputs": [
    {
     "name": "stdout",
     "output_type": "stream",
     "text": [
      "v1 0.1\n",
      "v2 [0.1]\n",
      "v3 [[0.1]\n",
      " [0.3]]\n"
     ]
    }
   ],
   "source": [
    "print('v1', sess.run(v1))\n",
    "print('v2', sess.run(v2))\n",
    "print('v3', sess.run(v3))"
   ]
  },
  {
   "cell_type": "markdown",
   "metadata": {},
   "source": [
    "### 1.2 常量\n",
    "理解了变量之后，其实常量就很容易理解了。"
   ]
  },
  {
   "cell_type": "code",
   "execution_count": 5,
   "metadata": {},
   "outputs": [
    {
     "name": "stdout",
     "output_type": "stream",
     "text": [
      "c1 Tensor(\"Const:0\", shape=(1,), dtype=float32)\n",
      "c2 Tensor(\"Const_1:0\", shape=(2,), dtype=float32)\n"
     ]
    }
   ],
   "source": [
    "c1 = tf.constant([1.0], dtype=tf.float32)\n",
    "c2 = tf.constant([1.0, 2.0], dtype=tf.float32)\n",
    "print('c1', c1)\n",
    "print('c2', c2)"
   ]
  },
  {
   "cell_type": "markdown",
   "metadata": {},
   "source": [
    "**注意：每次创建了新的变量、常量、操作以后都要执行初始化才能用。**"
   ]
  },
  {
   "cell_type": "code",
   "execution_count": 6,
   "metadata": {},
   "outputs": [
    {
     "name": "stdout",
     "output_type": "stream",
     "text": [
      "c1 [1.]\n",
      "c2 [1. 2.]\n"
     ]
    }
   ],
   "source": [
    "sess = tf.Session()\n",
    "sess.run(init)   \n",
    "\n",
    "print('c1', sess.run(c1))\n",
    "print('c2', sess.run(c2))"
   ]
  },
  {
   "cell_type": "markdown",
   "metadata": {},
   "source": [
    "**trainable：** 细心的你可能已经发现，在上面的例子中，变量中有个 trainable 参数而常量中没有；这个很好理解，在神经网络训练的过程中，通过迭代不断更新参数，如果我们想要固定某一层的参数，那么我只需要把这层的参数设置为：\n",
    "```python \n",
    "trainable=False\n",
    "```\n",
    "\n",
    "上面我们简单的介绍了 TensorFlow 中的变量和常量，实际上在写网络结构的时候我们在定义网络结构的时候回更多的使用 tf.get_variable() 来创建变量。而且会结合 tf.variable_scope() 一块使用，这样能够方便地管理命名，同时还能够更好地实现权值共享。**这个现在看着可能会比较蒙圈，可以慢慢理解。**下面将介绍 tf.get_variable() 的用法。"
   ]
  },
  {
   "cell_type": "markdown",
   "metadata": {},
   "source": [
    "### 1.3 使用 tf.get_variable() 创建变量"
   ]
  },
  {
   "cell_type": "code",
   "execution_count": 7,
   "metadata": {},
   "outputs": [
    {
     "name": "stdout",
     "output_type": "stream",
     "text": [
      "w1 <tf.Variable 'w1_2:0' shape=(3, 4) dtype=float32_ref>\n",
      "b1 <tf.Variable 'b1:0' shape=(3, 1) dtype=float32_ref>\n"
     ]
    }
   ],
   "source": [
    "w1 = tf.get_variable(name='w1', shape=[3,4], initializer=tf.truncated_normal_initializer())\n",
    "b1 = tf.get_variable('b1', [3,1])\n",
    "print('w1', w1)\n",
    "print('b1', b1)"
   ]
  },
  {
   "cell_type": "markdown",
   "metadata": {},
   "source": [
    "上面我们使用 tf.get_variable 创建了两个变量。和刚才用 tf.Variable() 创建变量的方式有些不同，一般使用 tf.get_variable() 创建变量的时候我们会提供三个参数值：\n",
    "- name: TensorFlow 中的变量常量都是用这个 name 来区分的。为了便于区分，我把上面等号左边的 w1 称为变量名；把等号右边的name='w1'叫做对象名称，如上面的 **'w1_2:0'(自动回避了 tf.Variable() 创建的v1, v2 的命名)** 和 'b1:0',你可以理解为 'w1:0', 'b1:0' 在内存中对应两个地址。\n",
    "- shape: 这个变量的shape\n",
    "- initializer: 常见的初始化函数见：https://www.tensorflow.org/api_docs/python/tf/initializers\n",
    "\n",
    "在上面我们已经创建了一个名称 为 'w1' 的变量，**如果你再次创建一个变量，命名还是 'w1' 的话就有问题了。**\n",
    "\n",
    "看下面的报错：说 w1 变量已经存在了。这就相当于你在用 java 或者 C++ 写代码的时候写了：\n",
    "```java\n",
    "int a = 1;\n",
    "int a = 2; // 报错：a 已经存在\n",
    "```"
   ]
  },
  {
   "cell_type": "code",
   "execution_count": 8,
   "metadata": {},
   "outputs": [
    {
     "ename": "ValueError",
     "evalue": "Variable w1 already exists, disallowed. Did you mean to set reuse=True or reuse=tf.AUTO_REUSE in VarScope? Originally defined at:\n\n  File \"<ipython-input-7-28eeb61e8bf0>\", line 1, in <module>\n    w1 = tf.get_variable(name='w1', shape=[3,4], initializer=tf.truncated_normal_initializer())\n  File \"/usr/local/lib/python3.5/dist-packages/IPython/core/interactiveshell.py\", line 2963, in run_code\n    exec(code_obj, self.user_global_ns, self.user_ns)\n  File \"/usr/local/lib/python3.5/dist-packages/IPython/core/interactiveshell.py\", line 2903, in run_ast_nodes\n    if self.run_code(code, result):\n",
     "output_type": "error",
     "traceback": [
      "\u001b[0;31m---------------------------------------------------------------------------\u001b[0m",
      "\u001b[0;31mValueError\u001b[0m                                Traceback (most recent call last)",
      "\u001b[0;32m<ipython-input-8-90889f62983e>\u001b[0m in \u001b[0;36m<module>\u001b[0;34m()\u001b[0m\n\u001b[1;32m      1\u001b[0m \u001b[0;31m# 再创建一个变量，使用已经存在的 name，就会出错\u001b[0m\u001b[0;34m\u001b[0m\u001b[0;34m\u001b[0m\u001b[0m\n\u001b[0;32m----> 2\u001b[0;31m \u001b[0mw1_2\u001b[0m \u001b[0;34m=\u001b[0m \u001b[0mtf\u001b[0m\u001b[0;34m.\u001b[0m\u001b[0mget_variable\u001b[0m\u001b[0;34m(\u001b[0m\u001b[0mname\u001b[0m\u001b[0;34m=\u001b[0m\u001b[0;34m'w1'\u001b[0m\u001b[0;34m,\u001b[0m \u001b[0mshape\u001b[0m\u001b[0;34m=\u001b[0m\u001b[0;34m[\u001b[0m\u001b[0;36m1\u001b[0m\u001b[0;34m,\u001b[0m \u001b[0;36m2\u001b[0m\u001b[0;34m]\u001b[0m\u001b[0;34m)\u001b[0m\u001b[0;34m\u001b[0m\u001b[0m\n\u001b[0m",
      "\u001b[0;32m/usr/local/lib/python3.5/dist-packages/tensorflow/python/ops/variable_scope.py\u001b[0m in \u001b[0;36mget_variable\u001b[0;34m(name, shape, dtype, initializer, regularizer, trainable, collections, caching_device, partitioner, validate_shape, use_resource, custom_getter, constraint)\u001b[0m\n\u001b[1;32m   1295\u001b[0m       \u001b[0mpartitioner\u001b[0m\u001b[0;34m=\u001b[0m\u001b[0mpartitioner\u001b[0m\u001b[0;34m,\u001b[0m \u001b[0mvalidate_shape\u001b[0m\u001b[0;34m=\u001b[0m\u001b[0mvalidate_shape\u001b[0m\u001b[0;34m,\u001b[0m\u001b[0;34m\u001b[0m\u001b[0m\n\u001b[1;32m   1296\u001b[0m       \u001b[0muse_resource\u001b[0m\u001b[0;34m=\u001b[0m\u001b[0muse_resource\u001b[0m\u001b[0;34m,\u001b[0m \u001b[0mcustom_getter\u001b[0m\u001b[0;34m=\u001b[0m\u001b[0mcustom_getter\u001b[0m\u001b[0;34m,\u001b[0m\u001b[0;34m\u001b[0m\u001b[0m\n\u001b[0;32m-> 1297\u001b[0;31m       constraint=constraint)\n\u001b[0m\u001b[1;32m   1298\u001b[0m get_variable_or_local_docstring = (\n\u001b[1;32m   1299\u001b[0m     \"\"\"%s\n",
      "\u001b[0;32m/usr/local/lib/python3.5/dist-packages/tensorflow/python/ops/variable_scope.py\u001b[0m in \u001b[0;36mget_variable\u001b[0;34m(self, var_store, name, shape, dtype, initializer, regularizer, reuse, trainable, collections, caching_device, partitioner, validate_shape, use_resource, custom_getter, constraint)\u001b[0m\n\u001b[1;32m   1091\u001b[0m           \u001b[0mpartitioner\u001b[0m\u001b[0;34m=\u001b[0m\u001b[0mpartitioner\u001b[0m\u001b[0;34m,\u001b[0m \u001b[0mvalidate_shape\u001b[0m\u001b[0;34m=\u001b[0m\u001b[0mvalidate_shape\u001b[0m\u001b[0;34m,\u001b[0m\u001b[0;34m\u001b[0m\u001b[0m\n\u001b[1;32m   1092\u001b[0m           \u001b[0muse_resource\u001b[0m\u001b[0;34m=\u001b[0m\u001b[0muse_resource\u001b[0m\u001b[0;34m,\u001b[0m \u001b[0mcustom_getter\u001b[0m\u001b[0;34m=\u001b[0m\u001b[0mcustom_getter\u001b[0m\u001b[0;34m,\u001b[0m\u001b[0;34m\u001b[0m\u001b[0m\n\u001b[0;32m-> 1093\u001b[0;31m           constraint=constraint)\n\u001b[0m\u001b[1;32m   1094\u001b[0m \u001b[0;34m\u001b[0m\u001b[0m\n\u001b[1;32m   1095\u001b[0m   def _get_partitioned_variable(self,\n",
      "\u001b[0;32m/usr/local/lib/python3.5/dist-packages/tensorflow/python/ops/variable_scope.py\u001b[0m in \u001b[0;36mget_variable\u001b[0;34m(self, name, shape, dtype, initializer, regularizer, reuse, trainable, collections, caching_device, partitioner, validate_shape, use_resource, custom_getter, constraint)\u001b[0m\n\u001b[1;32m    437\u001b[0m           \u001b[0mcaching_device\u001b[0m\u001b[0;34m=\u001b[0m\u001b[0mcaching_device\u001b[0m\u001b[0;34m,\u001b[0m \u001b[0mpartitioner\u001b[0m\u001b[0;34m=\u001b[0m\u001b[0mpartitioner\u001b[0m\u001b[0;34m,\u001b[0m\u001b[0;34m\u001b[0m\u001b[0m\n\u001b[1;32m    438\u001b[0m           \u001b[0mvalidate_shape\u001b[0m\u001b[0;34m=\u001b[0m\u001b[0mvalidate_shape\u001b[0m\u001b[0;34m,\u001b[0m \u001b[0muse_resource\u001b[0m\u001b[0;34m=\u001b[0m\u001b[0muse_resource\u001b[0m\u001b[0;34m,\u001b[0m\u001b[0;34m\u001b[0m\u001b[0m\n\u001b[0;32m--> 439\u001b[0;31m           constraint=constraint)\n\u001b[0m\u001b[1;32m    440\u001b[0m \u001b[0;34m\u001b[0m\u001b[0m\n\u001b[1;32m    441\u001b[0m   def _get_partitioned_variable(\n",
      "\u001b[0;32m/usr/local/lib/python3.5/dist-packages/tensorflow/python/ops/variable_scope.py\u001b[0m in \u001b[0;36m_true_getter\u001b[0;34m(name, shape, dtype, initializer, regularizer, reuse, trainable, collections, caching_device, partitioner, validate_shape, use_resource, constraint)\u001b[0m\n\u001b[1;32m    406\u001b[0m           \u001b[0mtrainable\u001b[0m\u001b[0;34m=\u001b[0m\u001b[0mtrainable\u001b[0m\u001b[0;34m,\u001b[0m \u001b[0mcollections\u001b[0m\u001b[0;34m=\u001b[0m\u001b[0mcollections\u001b[0m\u001b[0;34m,\u001b[0m\u001b[0;34m\u001b[0m\u001b[0m\n\u001b[1;32m    407\u001b[0m           \u001b[0mcaching_device\u001b[0m\u001b[0;34m=\u001b[0m\u001b[0mcaching_device\u001b[0m\u001b[0;34m,\u001b[0m \u001b[0mvalidate_shape\u001b[0m\u001b[0;34m=\u001b[0m\u001b[0mvalidate_shape\u001b[0m\u001b[0;34m,\u001b[0m\u001b[0;34m\u001b[0m\u001b[0m\n\u001b[0;32m--> 408\u001b[0;31m           use_resource=use_resource, constraint=constraint)\n\u001b[0m\u001b[1;32m    409\u001b[0m \u001b[0;34m\u001b[0m\u001b[0m\n\u001b[1;32m    410\u001b[0m     \u001b[0;32mif\u001b[0m \u001b[0mcustom_getter\u001b[0m \u001b[0;32mis\u001b[0m \u001b[0;32mnot\u001b[0m \u001b[0;32mNone\u001b[0m\u001b[0;34m:\u001b[0m\u001b[0;34m\u001b[0m\u001b[0m\n",
      "\u001b[0;32m/usr/local/lib/python3.5/dist-packages/tensorflow/python/ops/variable_scope.py\u001b[0m in \u001b[0;36m_get_single_variable\u001b[0;34m(self, name, shape, dtype, initializer, regularizer, partition_info, reuse, trainable, collections, caching_device, validate_shape, use_resource, constraint)\u001b[0m\n\u001b[1;32m    745\u001b[0m                          \u001b[0;34m\"reuse=tf.AUTO_REUSE in VarScope? \"\u001b[0m\u001b[0;34m\u001b[0m\u001b[0m\n\u001b[1;32m    746\u001b[0m                          \"Originally defined at:\\n\\n%s\" % (\n\u001b[0;32m--> 747\u001b[0;31m                              name, \"\".join(traceback.format_list(tb))))\n\u001b[0m\u001b[1;32m    748\u001b[0m       \u001b[0mfound_var\u001b[0m \u001b[0;34m=\u001b[0m \u001b[0mself\u001b[0m\u001b[0;34m.\u001b[0m\u001b[0m_vars\u001b[0m\u001b[0;34m[\u001b[0m\u001b[0mname\u001b[0m\u001b[0;34m]\u001b[0m\u001b[0;34m\u001b[0m\u001b[0m\n\u001b[1;32m    749\u001b[0m       \u001b[0;32mif\u001b[0m \u001b[0;32mnot\u001b[0m \u001b[0mshape\u001b[0m\u001b[0;34m.\u001b[0m\u001b[0mis_compatible_with\u001b[0m\u001b[0;34m(\u001b[0m\u001b[0mfound_var\u001b[0m\u001b[0;34m.\u001b[0m\u001b[0mget_shape\u001b[0m\u001b[0;34m(\u001b[0m\u001b[0;34m)\u001b[0m\u001b[0;34m)\u001b[0m\u001b[0;34m:\u001b[0m\u001b[0;34m\u001b[0m\u001b[0m\n",
      "\u001b[0;31mValueError\u001b[0m: Variable w1 already exists, disallowed. Did you mean to set reuse=True or reuse=tf.AUTO_REUSE in VarScope? Originally defined at:\n\n  File \"<ipython-input-7-28eeb61e8bf0>\", line 1, in <module>\n    w1 = tf.get_variable(name='w1', shape=[3,4], initializer=tf.truncated_normal_initializer())\n  File \"/usr/local/lib/python3.5/dist-packages/IPython/core/interactiveshell.py\", line 2963, in run_code\n    exec(code_obj, self.user_global_ns, self.user_ns)\n  File \"/usr/local/lib/python3.5/dist-packages/IPython/core/interactiveshell.py\", line 2903, in run_ast_nodes\n    if self.run_code(code, result):\n"
     ]
    }
   ],
   "source": [
    "# 再创建一个变量，使用已经存在的 name，就会出错\n",
    "w1_2 = tf.get_variable(name='w1', shape=[1, 2])"
   ]
  },
  {
   "cell_type": "markdown",
   "metadata": {},
   "source": [
    "细心的你可能发现在前面的例子中，使用 tf.Variable() 创建变量的时候我们给 v1 和 v2 的 name 是一样的，但是却没有报错；这里使用 tf.get_variable() 就不一样了。**实际上一般都是用 tf.variable_scope() 和 tf.get_variable() 来配合使用进行命名的。**在这里我们先不讲太难，这里只是先说明一下，后面再慢慢学习。"
   ]
  },
  {
   "cell_type": "markdown",
   "metadata": {},
   "source": [
    "### 1.4 一个简单的例子感受一下 TensorFlow 的用法\n",
    "用 tensorflow 实现计数器: 在循环中调用加法实现计数"
   ]
  },
  {
   "cell_type": "code",
   "execution_count": 9,
   "metadata": {},
   "outputs": [
    {
     "name": "stdout",
     "output_type": "stream",
     "text": [
      "h_sum = 0.0\n",
      "vec =  [1. 2. 3. 4.]\n",
      "round 0: h_vec[0] = 1.0, h_sum =1.0\n",
      "round 1: h_vec[1] = 2.0, h_sum =3.0\n",
      "round 2: h_vec[2] = 3.0, h_sum =6.0\n",
      "round 3: h_vec[3] = 4.0, h_sum =10.0\n",
      "the mean is  2.5\n"
     ]
    }
   ],
   "source": [
    "h_sum = tf.Variable(0.0, dtype=tf.float32)\n",
    "h_vec = tf.constant([1.0, 2.0, 3.0, 4.0])\n",
    "\n",
    "# 把 h_vec 的每个元素加到 h_sum 中，然后再除以 10 来计算平均值\n",
    "# 待添加的数\n",
    "h_add = tf.placeholder(tf.float32)\n",
    "# 添加之后的值\n",
    "h_new = tf.add(h_sum, h_add)\n",
    "# 更新 h_new 的 op\n",
    "update = tf.assign(h_sum, h_new)\n",
    "\n",
    "\n",
    "sess.run(tf.global_variables_initializer())\n",
    "# 查看原始值\n",
    "print('h_sum =', sess.run(h_sum))\n",
    "print('vec = ', sess.run(h_vec))\n",
    "\n",
    "# 循环添加\n",
    "for i in range(4):\n",
    "    sess.run(update, feed_dict={h_add: sess.run(h_vec[i])})\n",
    "    print('round {}: h_vec[{}] = {}, h_sum ={}'.format(i, i, sess.run(h_vec[i]), sess.run(h_sum)))\n",
    "\n",
    "print('the mean is ', sess.run(h_sum / 4))  "
   ]
  },
  {
   "cell_type": "markdown",
   "metadata": {},
   "source": [
    "## 2.tf.placeholder() 和 feed 的使用\n",
    "除了常量和变量之外，还经常用到的 tf.placeholder()。在神经网络中，我们一般都是每次喂一个 mini-batch 的数据，那么 tf.placeholder() 就相当于占了个坑，等着我们传一个 mini-batch 的数据来填它。\n",
    "\n",
    "tf.placeholder() 的作用就是创建占位符，后面再传一个 feed 参数来填它。<br/> "
   ]
  },
  {
   "cell_type": "code",
   "execution_count": 10,
   "metadata": {},
   "outputs": [
    {
     "name": "stdout",
     "output_type": "stream",
     "text": [
      "input1 Tensor(\"Placeholder_1:0\", dtype=float32)\n",
      "input2 Tensor(\"Placeholder_2:0\", dtype=float32)\n",
      "output Tensor(\"Mul:0\", dtype=float32)\n"
     ]
    }
   ],
   "source": [
    "input1 = tf.placeholder(tf.float32)\n",
    "input2 = tf.placeholder(tf.float32)\n",
    "output = tf.multiply(input1, input2)\n",
    "\n",
    "print('input1', input1)\n",
    "print('input2', input2)\n",
    "print('output', output)"
   ]
  },
  {
   "cell_type": "code",
   "execution_count": 11,
   "metadata": {},
   "outputs": [
    {
     "name": "stdout",
     "output_type": "stream",
     "text": [
      "[array([14.], dtype=float32)]\n",
      "[array([5.], dtype=float32)]\n"
     ]
    }
   ],
   "source": [
    "# 通过 feed 来“填坑”\n",
    "_out = sess.run([output], feed_dict={input1:[7.0], input2:[2.0]})\n",
    "print(_out)\n",
    "_out = sess.run([output], feed_dict={input1:[5.0], input2:[1.0]})\n",
    "print(_out)"
   ]
  },
  {
   "cell_type": "markdown",
   "metadata": {},
   "source": [
    "## 3.一个简单的机器学习例子"
   ]
  },
  {
   "cell_type": "markdown",
   "metadata": {},
   "source": [
    "### 例一：平面拟合\n",
    "通过本例可以看到机器学习的一个通用过程：1.准备数据  -> 2.构造模型（设置求解目标函数）  -> 3.求解模型"
   ]
  },
  {
   "cell_type": "code",
   "execution_count": 12,
   "metadata": {},
   "outputs": [
    {
     "name": "stdout",
     "output_type": "stream",
     "text": [
      "X.shape= (100, 1)\n",
      "y.shape= (100, 1)\n"
     ]
    }
   ],
   "source": [
    "import tensorflow as tf\n",
    "import numpy as np\n",
    "\n",
    "# 设置tensorflow对GPU的使用按需分配\n",
    "# 如果直接使用 sess = tf.Session() 的话会默认占用全部的 GPU 资源\n",
    "config  = tf.ConfigProto()\n",
    "config.gpu_options.allow_growth = True\n",
    "sess = tf.Session(config=config)\n",
    "\n",
    "\n",
    "# 1.准备数据：使用 NumPy 生成假数据(phony data), 总共 100 个点.\n",
    "X = np.float32(np.random.rand(100)) # 随机输入\n",
    "X = np.sort(X)\n",
    "y = np.dot(0.200, X**2) + 0.300 + np.random.randn(100) * 0.01  # 加一点点噪声\n",
    "X = X.reshape([-1, 1])\n",
    "y = y.reshape([-1, 1])\n",
    "print('X.shape=', X.shape)\n",
    "print('y.shape=', y.shape)"
   ]
  },
  {
   "cell_type": "code",
   "execution_count": 13,
   "metadata": {
    "scrolled": false
   },
   "outputs": [
    {
     "name": "stdout",
     "output_type": "stream",
     "text": [
      "0 [[0.61981314]] [0.183312]\n",
      "20 [[0.2881131]] [0.27159673]\n",
      "40 [[0.22036755]] [0.29286206]\n",
      "60 [[0.20634001]] [0.2972653]\n",
      "80 [[0.20343544]] [0.29817703]\n",
      "100 [[0.20283401]] [0.29836583]\n",
      "120 [[0.20270947]] [0.29840493]\n",
      "140 [[0.2026837]] [0.298413]\n",
      "160 [[0.20267835]] [0.2984147]\n",
      "180 [[0.20267724]] [0.29841504]\n",
      "200 [[0.20267706]] [0.2984151]\n"
     ]
    }
   ],
   "source": [
    "# 2.构造一个线性模型\n",
    "b = tf.Variable(tf.zeros([1]))\n",
    "W = tf.Variable(tf.random_uniform([1,1], -1.0, 1.0))\n",
    "y_pre = tf.matmul(X**2, W) + b\n",
    "\n",
    "# 3.求解模型\n",
    "loss = tf.reduce_mean(tf.square(y_pre - y))         # 设置损失函数：误差的均方差\n",
    "optimizer = tf.train.GradientDescentOptimizer(0.5)   # 选择梯度下降的方法\n",
    "train = optimizer.minimize(loss)                     # 迭代的目标：最小化损失函数\n",
    "\n",
    "\n",
    "############################################################\n",
    "# 以下是用 tf 来解决上面的任务\n",
    "# 1.初始化变量：tf 的必备步骤，主要声明了变量，就必须初始化才能用\n",
    "init = tf.global_variables_initializer()\n",
    "sess.run(init)\n",
    "\n",
    "# 2.迭代，反复执行上面的最小化损失函数这一操作（train op）,拟合平面\n",
    "for step in range(0, 201):\n",
    "    sess.run(train)\n",
    "    if step % 20 == 0:\n",
    "        print(step, sess.run(W), sess.run(b))\n",
    "\n",
    "# 得到最佳拟合结果 W: [[0.100  0.200]], b: [0.300]"
   ]
  },
  {
   "cell_type": "code",
   "execution_count": 14,
   "metadata": {
    "scrolled": false
   },
   "outputs": [
    {
     "name": "stdout",
     "output_type": "stream",
     "text": [
      "y_pre: [0.29845726 0.29847455 0.2985353  0.29858625 0.29862583 0.29885435\n",
      " 0.29893148 0.29920894 0.299272   0.2994445  0.30027884 0.30029494\n",
      " 0.30043533 0.3005978  0.30067915 0.30099547 0.30101013 0.3032228\n",
      " 0.30350995 0.30439574]\n",
      "y_true: [0.29525714 0.28868752 0.28505355 0.2989536  0.26959546 0.31568486\n",
      " 0.3057303  0.29026063 0.29732667 0.29826883 0.3082459  0.2898455\n",
      " 0.3077197  0.29528861 0.29756129 0.29852323 0.30031976 0.33165253\n",
      " 0.29205362 0.297387  ]\n"
     ]
    }
   ],
   "source": [
    "_y_pre = sess.run(y_pre)       \n",
    "print('y_pre:', _y_pre.reshape([-1])[:20])   # 预测值\n",
    "print('y_true:', y.reshape([-1])[:20]) # 真实值"
   ]
  },
  {
   "cell_type": "markdown",
   "metadata": {},
   "source": [
    "可以看到，拟合的结果和真实值还是非常接近的。下面绘制一下最后的图看看吧："
   ]
  },
  {
   "cell_type": "code",
   "execution_count": 16,
   "metadata": {},
   "outputs": [
    {
     "data": {
      "image/png": "[encoded data removed]",
      "text/plain": [
       "<Figure size 432x288 with 1 Axes>"
      ]
     },
     "metadata": {},
     "output_type": "display_data"
    }
   ],
   "source": [
    "import matplotlib.pyplot as plt\n",
    "\n",
    "plt.plot(X, y, 'b.')\n",
    "plt.plot(X, _y_pre, 'r-')\n",
    "plt.show()"
   ]
  },
  {
   "cell_type": "code",
   "execution_count": null,
   "metadata": {},
   "outputs": [],
   "source": []
  }
 ],
 "metadata": {
  "anaconda-cloud": {},
  "kernelspec": {
   "display_name": "Python 3",
   "language": "python",
   "name": "python3"
  },
  "language_info": {
   "codemirror_mode": {
    "name": "ipython",
    "version": 3
   },
   "file_extension": ".py",
   "mimetype": "text/x-python",
   "name": "python",
   "nbconvert_exporter": "python",
   "pygments_lexer": "ipython3",
   "version": "3.6.4"
  }
 },
 "nbformat": 4,
 "nbformat_minor": 2
}
